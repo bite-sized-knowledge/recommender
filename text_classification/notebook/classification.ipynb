{
 "cells": [
  {
   "cell_type": "code",
   "execution_count": null,
   "metadata": {},
   "outputs": [],
   "source": [
    "import sys\n",
    "sys.path.append('../src')\n",
    "import os\n",
    "from langchain_core.prompts import PromptTemplate\n",
    "from langchain_openai import ChatOpenAI\n",
    "from preprocessing \\\n",
    "    import WoowahanProcessor, TossProcessor, MediumProcessor, KakaoProcessor, OliveYoungProcessor\n",
    "from utils.db_conn import Connection\n",
    "import warnings\n",
    "import boto3\n",
    "\n",
    "os.environ[\"OPENAI_API_KEY\"] = boto3.client(\"ssm\", region_name=\"ap-northeast-2\").\\\n",
    "                                    get_parameter(Name='/llm/apikey', WithDecryption=True)\\\n",
    "                                    [\"Parameter\"][\"Value\"]\n",
    "warnings.filterwarnings(\"ignore\")\n",
    "conn = Connection()"
   ]
  },
  {
   "cell_type": "code",
   "execution_count": null,
   "metadata": {},
   "outputs": [],
   "source": [
    "query = f\"\"\"\n",
    "SELECT\n",
    "    a.title,\n",
    "    a.description, \n",
    "    a.keywords,\n",
    "    a.content,\n",
    "    a.lang\n",
    "FROM \n",
    "    article AS a\n",
    "JOIN (\n",
    "    SELECT article_id FROM article ORDER BY RAND() LIMIT 5\n",
    ") AS rand_table\n",
    "ON a.article_id = rand_table.article_id;\n",
    "\"\"\"\n",
    "\n",
    "sample_text = conn.execute(query)"
   ]
  },
  {
   "cell_type": "code",
   "execution_count": null,
   "metadata": {},
   "outputs": [],
   "source": [
    "sample_text['keywords']"
   ]
  },
  {
   "cell_type": "code",
   "execution_count": null,
   "metadata": {},
   "outputs": [],
   "source": [
    "def postprocess_by_blog_id(text, blog_id):\n",
    "    processors = {\n",
    "        1: WoowahanProcessor,\n",
    "        2: TossProcessor,\n",
    "        3: MediumProcessor,\n",
    "        4: KakaoProcessor,\n",
    "        5: OliveYoungProcessor\n",
    "    }\n",
    "    processor_class = processors.get(blog_id)\n",
    "    if not processor_class:\n",
    "        raise ValueError(f\"Unsupported blog_id: {blog_id}\")\n",
    "    processor = processor_class(text, blog_id)\n",
    "    return processor.process()"
   ]
  },
  {
   "cell_type": "code",
   "execution_count": null,
   "metadata": {},
   "outputs": [],
   "source": [
    "text = sample_text['content'].loc[0]\n",
    "blog_id = sample_text['blog_id'].loc[0]\n",
    "text = postprocess_by_blog_id(text, blog_id)"
   ]
  },
  {
   "cell_type": "code",
   "execution_count": null,
   "metadata": {},
   "outputs": [],
   "source": [
    "from llm_pipeline import LangChainModel\n",
    "model = LangChainModel()"
   ]
  },
  {
   "cell_type": "code",
   "execution_count": null,
   "metadata": {},
   "outputs": [],
   "source": [
    "text"
   ]
  },
  {
   "cell_type": "code",
   "execution_count": null,
   "metadata": {},
   "outputs": [],
   "source": [
    "model.predict(text)"
   ]
  },
  {
   "cell_type": "code",
   "execution_count": null,
   "metadata": {},
   "outputs": [],
   "source": [
    "query = f\"\"\"\n",
    "desc article;\n",
    "\"\"\"\n",
    "\n",
    "conn.execute(query)"
   ]
  },
  {
   "cell_type": "code",
   "execution_count": null,
   "metadata": {},
   "outputs": [],
   "source": [
    "conn.close()"
   ]
  }
 ],
 "metadata": {
  "kernelspec": {
   "display_name": "text_classification",
   "language": "python",
   "name": "python3"
  },
  "language_info": {
   "codemirror_mode": {
    "name": "ipython",
    "version": 3
   },
   "file_extension": ".py",
   "mimetype": "text/x-python",
   "name": "python",
   "nbconvert_exporter": "python",
   "pygments_lexer": "ipython3",
   "version": "3.10.16"
  }
 },
 "nbformat": 4,
 "nbformat_minor": 2
}
