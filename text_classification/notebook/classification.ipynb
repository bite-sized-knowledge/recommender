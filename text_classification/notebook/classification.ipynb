{
 "cells": [
  {
   "cell_type": "code",
   "execution_count": null,
   "metadata": {},
   "outputs": [],
   "source": [
    "import sys\n",
    "sys.path.append('../src')\n",
    "import os\n",
    "from langchain_core.prompts import PromptTemplate\n",
    "from langchain_openai import ChatOpenAI\n",
    "from preprocessing \\\n",
    "    import WoowahanProcessor, TossProcessor, MediumProcessor, KakaoProcessor, OliveYoungProcessor\n",
    "from utils.db_conn import Connection\n",
    "import warnings\n",
    "import boto3\n",
    "\n",
    "os.environ[\"OPENAI_API_KEY\"] = boto3.client(\"ssm\", region_name=\"ap-northeast-2\").\\\n",
    "                                    get_parameter(Name='/llm/apikey', WithDecryption=True)\\\n",
    "                                    [\"Parameter\"][\"Value\"]\n",
    "warnings.filterwarnings(\"ignore\")\n",
    "conn = Connection()"
   ]
  },
  {
   "cell_type": "code",
   "execution_count": null,
   "metadata": {},
   "outputs": [],
   "source": [
    "query = f\"\"\"\n",
    "SELECT \n",
    "    a.article_id, \n",
    "    a.blog_id,\n",
    "    a.title, \n",
    "    a.description, \n",
    "    a.content\n",
    "FROM \n",
    "    article AS a\n",
    "JOIN (\n",
    "    SELECT article_id FROM article ORDER BY RAND() LIMIT 1\n",
    ") AS rand_table\n",
    "ON a.article_id = rand_table.article_id;\n",
    "\"\"\"\n",
    "\n",
    "sample_text = conn.execute(query)"
   ]
  },
  {
   "cell_type": "code",
   "execution_count": null,
   "metadata": {},
   "outputs": [],
   "source": [
    "def postprocess_by_blog_id(text, blog_id):\n",
    "    processors = {\n",
    "        1: WoowahanProcessor,\n",
    "        2: TossProcessor,\n",
    "        3: MediumProcessor,\n",
    "        4: KakaoProcessor,\n",
    "        5: OliveYoungProcessor\n",
    "    }\n",
    "    processor_class = processors.get(blog_id)\n",
    "    if not processor_class:\n",
    "        raise ValueError(f\"Unsupported blog_id: {blog_id}\")\n",
    "    processor = processor_class(text, blog_id)\n",
    "    return processor.process()"
   ]
  },
  {
   "cell_type": "code",
   "execution_count": null,
   "metadata": {},
   "outputs": [],
   "source": [
    "text = sample_text['content'].loc[0]\n",
    "blog_id = sample_text['blog_id'].loc[0]\n",
    "text = postprocess_by_blog_id(text, blog_id)"
   ]
  },
  {
   "cell_type": "code",
   "execution_count": null,
   "metadata": {},
   "outputs": [],
   "source": [
    "from typing import List, Literal\n",
    "from pydantic import BaseModel, Field\n",
    "from langchain_core.output_parsers import PydanticOutputParser\n",
    "\n",
    "class Classification(BaseModel):\n",
    "    focusing: Literal[\n",
    "        'Web', 'Mobile(Android, iOS) engineering', 'Hardware & IoT', \n",
    "        'AI & ML & Data', 'Security & Network',\n",
    "        'DB', 'DevOps & Infra', 'Game',\n",
    "        '기획', 'Design', 'etc'\n",
    "    ] = Field(\n",
    "        description=\"Most relative topic of the text\"\n",
    "    )\n",
    "    keywords: List[str] = Field(\n",
    "        max_length=3,\n",
    "        description=\"Three relative keywords extracted from the text considering the focusing topic\"\n",
    "    )\n",
    "    content_length: int = Field(\n",
    "        description=\"Content length of the text excluding metadata\"\n",
    "    )\n",
    "\n",
    "parser = PydanticOutputParser(pydantic_object=Classification)"
   ]
  },
  {
   "cell_type": "code",
   "execution_count": null,
   "metadata": {},
   "outputs": [],
   "source": [
    "prompt = PromptTemplate(\n",
    "    template=\"{question}\\n{format_instructions}\\nContent:\\n{content}\",\n",
    "    input_variables=[\"question\", \"content\"],\n",
    "    partial_variables={\"format_instructions\": parser.get_format_instructions()}\n",
    ")\n",
    "\n",
    "question = \"\"\"\n",
    "You are a professional text classification AI system. Analyze the given text and provide accurate, \n",
    "consistent results. Extract the desired information from the following passage.\n",
    "\n",
    "Follow these guidelines strictly:\n",
    "1. Focusing:\n",
    "   - Choose the most relevant topic from the given categories : #focusing enums\n",
    "   - If the text doesn't primarily focus on a specific technical topic but rather on general \n",
    "     events, experiences, or non-technical content, classify it as 'etc'.\n",
    "\n",
    "2. Keywords:\n",
    "   - Extract exactly 3 keywords that best represent the main content of the text.\n",
    "   - Focus on the overall theme and context rather than specific technical terms if the content \n",
    "     is more about general events or experiences.\n",
    "   - Ensure the keywords are directly related to the main topic or event discussed in the text.\n",
    "   - Exclude any corporate names, product names, or irrelevant information.\n",
    "\n",
    "3. Content Length:\n",
    "   - Count and report the number of characters in the main content, excluding any metadata.\n",
    "\n",
    "Additional guidelines:\n",
    "* Precisely grasp and concisely summarize the core of the text.\n",
    "* Never include personal information or ethically problematic content.\n",
    "* Do not provide subjective opinions or evaluations.\n",
    "* Do not include any irrelevant information.\n",
    "* Do not provide information that is not explicitly stated in the text.\n",
    "\"\"\""
   ]
  },
  {
   "cell_type": "code",
   "execution_count": null,
   "metadata": {},
   "outputs": [],
   "source": [
    "query = prompt.format(content=text, question=question)\n",
    "print(query)"
   ]
  },
  {
   "cell_type": "code",
   "execution_count": null,
   "metadata": {},
   "outputs": [],
   "source": [
    "model = ChatOpenAI(model='gpt-4o-mini-2024-07-18')"
   ]
  },
  {
   "cell_type": "code",
   "execution_count": null,
   "metadata": {},
   "outputs": [],
   "source": [
    "output = model.predict(query)\n",
    "output = parser.parse(output)\n",
    "print(output)"
   ]
  }
 ],
 "metadata": {
  "kernelspec": {
   "display_name": "text_classification",
   "language": "python",
   "name": "python3"
  },
  "language_info": {
   "codemirror_mode": {
    "name": "ipython",
    "version": 3
   },
   "file_extension": ".py",
   "mimetype": "text/x-python",
   "name": "python",
   "nbconvert_exporter": "python",
   "pygments_lexer": "ipython3",
   "version": "3.10.16"
  }
 },
 "nbformat": 4,
 "nbformat_minor": 2
}
