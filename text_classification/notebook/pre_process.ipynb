{
 "cells": [
  {
   "cell_type": "code",
   "execution_count": null,
   "metadata": {},
   "outputs": [],
   "source": [
    "import numpy as np\n",
    "import pandas as pd\n",
    "import sys\n",
    "sys.path.append('../src')\n",
    "\n",
    "from utils.db_conn import Connection\n",
    "import warnings\n",
    "import os\n",
    "from preprocessing \\\n",
    "    import WoowahanProcessor, TossProcessor, MediumProcessor, KakaoProcessor, OliveYoungProcessor\n",
    "\n",
    "warnings.filterwarnings(\"ignore\")\n",
    "conn = Connection()"
   ]
  },
  {
   "cell_type": "code",
   "execution_count": null,
   "metadata": {},
   "outputs": [],
   "source": [
    "query = f\"\"\"\n",
    "SELECT \n",
    "    a.article_id, \n",
    "    a.blog_id,\n",
    "    a.title, \n",
    "    a.description, \n",
    "    a.content\n",
    "FROM \n",
    "    article AS a\n",
    "JOIN (\n",
    "    SELECT article_id FROM article ORDER BY RAND() LIMIT 5\n",
    ") AS rand_table\n",
    "ON a.article_id = rand_table.article_id;\n",
    "\"\"\"\n",
    "\n",
    "sample = conn.execute(query)"
   ]
  },
  {
   "cell_type": "code",
   "execution_count": null,
   "metadata": {},
   "outputs": [],
   "source": [
    "def postprocess_by_blog_id(text, blog_id):\n",
    "    processors = {\n",
    "        1: WoowahanProcessor,\n",
    "        2: TossProcessor,\n",
    "        3: MediumProcessor,\n",
    "        4: KakaoProcessor,\n",
    "        5 : OliveYoungProcessor\n",
    "    }\n",
    "    processor_class = processors.get(blog_id)\n",
    "    if not processor_class:\n",
    "        raise ValueError(f\"Unsupported blog_id: {blog_id}\")\n",
    "    processor = processor_class(text, blog_id)\n",
    "    return processor.process()"
   ]
  },
  {
   "cell_type": "code",
   "execution_count": null,
   "metadata": {},
   "outputs": [],
   "source": [
    "for i in range(5):\n",
    "    with open(f'../dataset_sample/sample_content_{i}', 'w+') as f:\n",
    "        f.write(sample['content'].loc[i])\n",
    "    \n",
    "    with open(f'../dataset_sample/sample_content_{i}_pre', 'w+') as f:\n",
    "        text = sample['content'].loc[i]\n",
    "        blog_id = sample['blog_id'].loc[i]\n",
    "        text = postprocess_by_blog_id(text, blog_id)\n",
    "        f.write(text)"
   ]
  }
 ],
 "metadata": {
  "kernelspec": {
   "display_name": "text_classification",
   "language": "python",
   "name": "python3"
  },
  "language_info": {
   "codemirror_mode": {
    "name": "ipython",
    "version": 3
   },
   "file_extension": ".py",
   "mimetype": "text/x-python",
   "name": "python",
   "nbconvert_exporter": "python",
   "pygments_lexer": "ipython3",
   "version": "3.10.16"
  }
 },
 "nbformat": 4,
 "nbformat_minor": 2
}
