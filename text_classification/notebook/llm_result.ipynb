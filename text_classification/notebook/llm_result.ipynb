{
 "cells": [
  {
   "cell_type": "code",
   "execution_count": null,
   "metadata": {},
   "outputs": [],
   "source": [
    "import sys\n",
    "sys.path.append('../src')\n",
    "import os\n",
    "from utils.db_conn import Connection\n",
    "import warnings\n",
    "warnings.filterwarnings(\"ignore\")\n",
    "conn = Connection()"
   ]
  },
  {
   "cell_type": "code",
   "execution_count": null,
   "metadata": {},
   "outputs": [],
   "source": [
    "conn.execute('select * from blog;')"
   ]
  },
  {
   "cell_type": "code",
   "execution_count": null,
   "metadata": {},
   "outputs": [],
   "source": [
    "query = \"\"\"\n",
    "select url, title, category_id, keywords\n",
    "from (SELECT *, row_number() over (partition by category_id order by rand()) as rn from article) t\n",
    "where rn <= 5;\n",
    "\"\"\"\n",
    "\n",
    "ret = conn.execute(query)"
   ]
  },
  {
   "cell_type": "code",
   "execution_count": null,
   "metadata": {},
   "outputs": [],
   "source": [
    "inference = [\n",
    "    {'url':[], 'title':[], 'category_id':[], 'keywords':[]},\n",
    "    {'url':[], 'title':[], 'category_id':[], 'keywords':[]},\n",
    "    {'url':[], 'title':[], 'category_id':[], 'keywords':[]},\n",
    "    {'url':[], 'title':[], 'category_id':[], 'keywords':[]},\n",
    "    {'url':[], 'title':[], 'category_id':[], 'keywords':[]},\n",
    "]"
   ]
  },
  {
   "cell_type": "code",
   "execution_count": null,
   "metadata": {},
   "outputs": [],
   "source": [
    "for idx, row in ret.iterrows():\n",
    "    if row['category_id'] == 7:continue\n",
    "    inference[idx%5]['url'].append(row['url'])\n",
    "    inference[idx%5]['title'].append(row['title'])\n",
    "    inference[idx%5]['category_id'].append(row['category_id'])\n",
    "    inference[idx%5]['keywords'].append(row['keywords'])"
   ]
  },
  {
   "cell_type": "code",
   "execution_count": null,
   "metadata": {},
   "outputs": [],
   "source": [
    "for idx, row in ret.iterrows():\n",
    "    if row['category_id'] == 7:\n",
    "        inference[idx%3]['url'].append(row['url'])\n",
    "        inference[idx%3]['title'].append(row['title'])\n",
    "        inference[idx%3]['category_id'].append(row['category_id'])\n",
    "        inference[idx%3]['keywords'].append(row['keywords'])"
   ]
  },
  {
   "cell_type": "code",
   "execution_count": null,
   "metadata": {},
   "outputs": [],
   "source": [
    "for idx, inf in enumerate(inference):\n",
    "    with open(f'../dataset_sample/classification_inf_user{idx+1}.tsv', 'w') as f:\n",
    "        f.write(\"url\\ttitle\\tcategory_id\\tkeywords\\n\")\n",
    "        for url, title, category_id, keywords in \\\n",
    "            zip(inf['url'], inf['title'], inf['category_id'], inf['keywords']):\n",
    "\n",
    "            keywords = \"#\".join(keywords.split('\\t'))\n",
    "            f.write(f\"{url}\\t{title}\\t{category_id}\\t{keywords}\\n\")"
   ]
  }
 ],
 "metadata": {
  "kernelspec": {
   "display_name": "text_classification",
   "language": "python",
   "name": "python3"
  },
  "language_info": {
   "codemirror_mode": {
    "name": "ipython",
    "version": 3
   },
   "file_extension": ".py",
   "mimetype": "text/x-python",
   "name": "python",
   "nbconvert_exporter": "python",
   "pygments_lexer": "ipython3",
   "version": "3.10.16"
  }
 },
 "nbformat": 4,
 "nbformat_minor": 2
}
